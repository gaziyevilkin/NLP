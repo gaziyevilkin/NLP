{
 "cells": [
  {
   "cell_type": "code",
   "execution_count": 4,
   "id": "7d759ca0",
   "metadata": {},
   "outputs": [
    {
     "name": "stdout",
     "output_type": "stream",
     "text": [
      "Requirement already satisfied: nltk in c:\\users\\dell\\anaconda3\\lib\\site-packages (3.6.5)Note: you may need to restart the kernel to use updated packages.\n",
      "\n",
      "Requirement already satisfied: click in c:\\users\\dell\\anaconda3\\lib\\site-packages (from nltk) (8.0.3)\n",
      "Requirement already satisfied: joblib in c:\\users\\dell\\anaconda3\\lib\\site-packages (from nltk) (1.1.0)\n",
      "Requirement already satisfied: regex>=2021.8.3 in c:\\users\\dell\\anaconda3\\lib\\site-packages (from nltk) (2021.8.3)\n",
      "Requirement already satisfied: tqdm in c:\\users\\dell\\anaconda3\\lib\\site-packages (from nltk) (4.62.3)\n",
      "Requirement already satisfied: colorama in c:\\users\\dell\\anaconda3\\lib\\site-packages (from click->nltk) (0.4.4)\n"
     ]
    }
   ],
   "source": [
    "pip install nltk"
   ]
  },
  {
   "cell_type": "code",
   "execution_count": 5,
   "id": "a6606396",
   "metadata": {},
   "outputs": [
    {
     "name": "stdout",
     "output_type": "stream",
     "text": [
      "showing info https://raw.githubusercontent.com/nltk/nltk_data/gh-pages/index.xml\n"
     ]
    },
    {
     "data": {
      "text/plain": [
       "True"
      ]
     },
     "execution_count": 5,
     "metadata": {},
     "output_type": "execute_result"
    }
   ],
   "source": [
    "import nltk\n",
    "nltk.download()"
   ]
  },
  {
   "cell_type": "code",
   "execution_count": 6,
   "id": "55fefbd7",
   "metadata": {},
   "outputs": [
    {
     "name": "stderr",
     "output_type": "stream",
     "text": [
      "[nltk_data] Downloading package punkt to\n",
      "[nltk_data]     C:\\Users\\DELL\\AppData\\Roaming\\nltk_data...\n",
      "[nltk_data]   Package punkt is already up-to-date!\n",
      "[nltk_data] Downloading package stopwords to\n",
      "[nltk_data]     C:\\Users\\DELL\\AppData\\Roaming\\nltk_data...\n",
      "[nltk_data]   Package stopwords is already up-to-date!\n",
      "[nltk_data] Downloading package averaged_perceptron_tagger to\n",
      "[nltk_data]     C:\\Users\\DELL\\AppData\\Roaming\\nltk_data...\n",
      "[nltk_data]   Package averaged_perceptron_tagger is already up-to-\n",
      "[nltk_data]       date!\n"
     ]
    },
    {
     "data": {
      "text/plain": [
       "True"
      ]
     },
     "execution_count": 6,
     "metadata": {},
     "output_type": "execute_result"
    }
   ],
   "source": [
    "nltk.download('punkt')\n",
    "nltk.download('stopwords')\n",
    "nltk.download('averaged_perceptron_tagger')"
   ]
  },
  {
   "cell_type": "code",
   "execution_count": 94,
   "id": "23a09d1f",
   "metadata": {},
   "outputs": [],
   "source": [
    "import numpy as np\n",
    "from gensim.models import Word2Vec\n",
    "from sklearn.manifold import TSNE\n",
    "import matplotlib.pyplot as plt"
   ]
  },
  {
   "cell_type": "code",
   "execution_count": 48,
   "id": "fc7ce8b2",
   "metadata": {},
   "outputs": [
    {
     "name": "stdout",
     "output_type": "stream",
     "text": [
      "\n",
      "elektrikli otomobiller hakkında merak edilenler\n",
      "\n",
      "elektrik enerjisi ile çalışan otomobillere \"elektrikli otomobil\" adı verilmektedir. elektrikli otomobillerin yakıt tasarrufu sağlamasının yanı sıra karbon emisyonunu azaltması sebebiyle çevreye verilen zararın aza indirilmesi bakımından da olumlu etkileri bulunmaktadır. elektrikli arabaların en önemli avantajlarından biri de sessiz çalışıyor olmalarıdır.\n",
      "\n",
      "elektrikli otomobiller içten yanmalı motorlara sahip otomobillerden farklı olarak gücünü elektrik motorundan almakta, yakıt olarak elektrik enerjisini kullanmaktadır.\n",
      "\n",
      "elektrikli otomobil teknolojisindeki gelişmelerin elektrikli araçlara olan ilgiyi ve talebi her geçen gün artırmasıyla birçok otomobil üreticisi modelleri arasına seri üretim elektrikli otomobilleri eklemiştir.\n",
      "\n",
      "elektrikli otomobiller arasında en fazla rağbet görenler hibrit diye adlandırılan, elektrik ve yakıt teknolojisinin birlikte yer aldığı otomobillerdir. bu otomobiller; aracın kullanım sırasında hem elektrik hem de yakıt enerjisinden faydalanmaktadır.\n",
      "\n",
      "dünya'da ve türkiye'de halen birçok farklı elektrikli araba modeli yer almakta.\n",
      "\n",
      "2019 yılında satışa sunulacak modeller arasında; audi e-tron, mercedes eqc, volvo xc40, mini e, e-kia niro, elektrikli hyundai kona, porsche taycan, peugeot e208, ds3 crossback e, jaguar xj, aston martin rapide, honda urban ev, nissan leaf e-plus, volkswagen i.d. neo ve tesla model 3 yer alıyor.\n",
      "\n",
      "temel hibritler yalnızca rejeneratif frenlemeden ve yoldaki ivmeden şarj olmaktadır. tak-ve-çalıştır hibritler elektrik şebekesinde şarj olmak için fişe takılabilir, daha büyük akülere ve hatta daha düşük yakıt tüketimine imkan tanırlar. hibrit olmayan, sadece elektrikle çalışan otomobilde ise sadece akü bulunur ve yakıt gerekmez.\n",
      "\n",
      "sadece elektrikle çalışan otomobiller hibrit araçlara göre daha pahalıdır. uzun vadede yakıt tüketimi olmaması sebebiyle avantaj sağlamaktadır.\n",
      "\n",
      "hibrit otomobiller\n",
      "hibrit otomobillerde iki adet motor bulunmaktadır. i̇ki farklı güçten faydalandıkları için hibrit yani melez olarak adlandırılmaktadırlar.\n",
      "\n",
      "i̇çten yanmalı ve elektrikli olmak üzere iki tip de motor kullanmaktadır. elektrikli motoru içten yanmalı motora destek olacak şekilde geliştirilmiştir. arabanız durma halindeyken iki motorda çalışmaz. araç kalkış yaptığında elektrik motoru devreye girer. hızlanma esnasında veya yokuşlarda her iki motor devreye girer.\n",
      "\n",
      "otomobilde elektrikli motoru şarj eden bir mekanizma bulunmaz. elektrik motoru içten yanmalı motor tarafından şarj edilmektedir. düşük hızlarda elektrikli motor aracın çekişin sağlar. yüksek hızlarda ise içten yanmalı motor devreye girmektedir.\n",
      "\n",
      "emisyon hacimleri düşüktür. elektrikli kullanım sırasında sessiz çalışırlar.\n",
      "\n",
      "şarj edilebilir hibrit otomobiller (tak çalıştır)\n",
      "\n",
      "hibrit teknolojiyle aynı sisteme de olan bu otomobillerin dışardan şarj edilebilmelerini sağlayan fiş tertibatları vardır. pilleri daha büyüktür. şarj soketlerine takılarak şarj edilebilirler.\n",
      "\n",
      "elektrikli otomobil kullanımının artmasının önündeki engellerin başında; şarj istasyonlarının yaygın olmaması ve maliyetlerin alternatif araç seçeneklerine göre biraz daha yüksek olması yer almaktadır.\n",
      "\n",
      "türkiye'de elektrikli ve hibrit araçlar\n",
      "\n",
      "ülkemizde elektrikli otomobil sahipliği her geçen yıl artıyor. bu talebi karşılamak için şarj istasyonları yatırımı da bu artışa paralel olarak artmaktadır.\n",
      "\n",
      "türkiye'de yer alan elektrikli otomobil sayısı toplam 1126 adet, şarj soketi sayısı ise 582 ulaşmış bulunuyor. türkiye'de 11 firmanın fiilen şarj istasyonu yatırımı bulunmakta, toplam 18 firma satış ve pazarlama faaliyetlerini sürdürmektedir.\n",
      "\n",
      "türkiye'de satılan elektrikli otomobiller arasında; mercedes, bmw, tesla, toyota, kia, honda, hyundai, renault gibi birçok marka bulunmaktadır.\n",
      "\n",
      "elektrikli araçların pil maliyetlerinin önümüzdeki beş sene içerisinde daha da düşeceği tahmin edilmektedir. 2015 yılında, elektrikli araçlarda yer alan piller aracın toplam maliyetinin %57'sini oluştururken, 2019'da bu oran %33'e düşmüş bulunmaktadır. 2025'te bu oranın %20'ye kadar düşmesi beklenmektedir.\n",
      "\n",
      "ülkemizde daha önceleri mtv'den (motorlu taşıtlar vergisi) muaf olan elektrikli araçlar için halen mtv vergisi uygulanmaktadır.\n",
      "\n",
      "türkiye elektrikli ve hibrit araçlar derneği (tehad) tarafından başlatılan girişimle 20-21 nisan tarihleri elektrikli ve hibrit sürüş haftası olarak ilan edilmiş bulunmaktadır. 2019 yılında elektrikli ve hibrit sürüş haftası'nın ilki gerçekleştirilmiştir.\n",
      "\n",
      "avrupa'da 2018 yılında 195.000 elektrikli araba satıldı. avrupa'da en fazla şarj istasyonu 80 binin üzerinde hollanda'da bulunuyor. almanya'da 37 bin,  fransa'da 34 bin adet şarj istasyonu yer alıyor.\n",
      "\n",
      "avrupa ile kıyaslandığında ülkemizde elektrikli araç pazarının henüz çok daha küçük olduğunu söyleyebiliriz. türkiye'de yeni elektrikli araba ve ikinci el elektrikli otomobil sayısının artması için maliyetlerin düşmesi ve şarj istasyonlarının artması ile mümkün olacaktır.\n",
      "\n"
     ]
    }
   ],
   "source": [
    "df =\"\"\"\n",
    "Elektrikli Otomobiller Hakkında Merak Edilenler\n",
    "\n",
    "Elektrik enerjisi ile çalışan otomobillere \"Elektrikli Otomobil\" adı verilmektedir. Elektrikli otomobillerin yakıt tasarrufu sağlamasının yanı sıra karbon emisyonunu azaltması sebebiyle çevreye verilen zararın aza indirilmesi bakımından da olumlu etkileri bulunmaktadır. Elektrikli arabaların en önemli avantajlarından biri de sessiz çalışıyor olmalarıdır.\n",
    "\n",
    "Elektrikli otomobiller içten yanmalı motorlara sahip otomobillerden farklı olarak gücünü elektrik motorundan almakta, yakıt olarak elektrik enerjisini kullanmaktadır.\n",
    "\n",
    "Elektrikli otomobil teknolojisindeki gelişmelerin elektrikli araçlara olan ilgiyi ve talebi her geçen gün artırmasıyla birçok otomobil üreticisi modelleri arasına seri üretim elektrikli otomobilleri eklemiştir.\n",
    "\n",
    "Elektrikli otomobiller arasında en fazla rağbet görenler Hibrit diye adlandırılan, elektrik ve yakıt teknolojisinin birlikte yer aldığı otomobillerdir. Bu otomobiller; aracın kullanım sırasında hem elektrik hem de yakıt enerjisinden faydalanmaktadır.\n",
    "\n",
    "Dünya'da ve Türkiye'de halen birçok farklı elektrikli araba modeli yer almakta.\n",
    "\n",
    "2019 yılında satışa sunulacak modeller arasında; Audi e-tron, Mercedes EQC, Volvo XC40, Mini E, e-Kia Niro, elektrikli Hyundai Kona, Porsche Taycan, Peugeot e208, DS3 Crossback E, Jaguar XJ, Aston Martin RapidE, Honda Urban EV, Nissan LEAF E-plus, Volkswagen I.D. Neo ve Tesla Model 3 yer alıyor.\n",
    "\n",
    "Temel hibritler yalnızca rejeneratif frenlemeden ve yoldaki ivmeden şarj olmaktadır. Tak-ve-çalıştır hibritler elektrik şebekesinde şarj olmak için fişe takılabilir, daha büyük akülere ve hatta daha düşük yakıt tüketimine imkan tanırlar. Hibrit olmayan, sadece elektrikle çalışan otomobilde ise sadece akü bulunur ve yakıt gerekmez.\n",
    "\n",
    "Sadece elektrikle çalışan otomobiller hibrit araçlara göre daha pahalıdır. Uzun vadede yakıt tüketimi olmaması sebebiyle avantaj sağlamaktadır.\n",
    "\n",
    "Hibrit Otomobiller\n",
    "Hibrit otomobillerde iki adet motor bulunmaktadır. İki farklı güçten faydalandıkları için Hibrit yani melez olarak adlandırılmaktadırlar.\n",
    "\n",
    "İçten yanmalı ve elektrikli olmak üzere iki tip de motor kullanmaktadır. Elektrikli motoru içten yanmalı motora destek olacak şekilde geliştirilmiştir. Arabanız durma halindeyken iki motorda çalışmaz. Araç kalkış yaptığında elektrik motoru devreye girer. Hızlanma esnasında veya yokuşlarda her iki motor devreye girer.\n",
    "\n",
    "Otomobilde elektrikli motoru şarj eden bir mekanizma bulunmaz. Elektrik motoru içten yanmalı motor tarafından şarj edilmektedir. Düşük hızlarda elektrikli motor aracın çekişin sağlar. Yüksek hızlarda ise içten yanmalı motor devreye girmektedir.\n",
    "\n",
    "Emisyon hacimleri düşüktür. Elektrikli kullanım sırasında sessiz çalışırlar.\n",
    "\n",
    "Şarj Edilebilir Hibrit Otomobiller (Tak Çalıştır)\n",
    "\n",
    "Hibrit teknolojiyle aynı sisteme de olan bu otomobillerin dışardan şarj edilebilmelerini sağlayan fiş tertibatları vardır. Pilleri daha büyüktür. Şarj soketlerine takılarak şarj edilebilirler.\n",
    "\n",
    "Elektrikli otomobil kullanımının artmasının önündeki engellerin başında; şarj istasyonlarının yaygın olmaması ve maliyetlerin alternatif araç seçeneklerine göre biraz daha yüksek olması yer almaktadır.\n",
    "\n",
    "Türkiye'de Elektrikli ve Hibrit Araçlar\n",
    "\n",
    "Ülkemizde elektrikli otomobil sahipliği her geçen yıl artıyor. Bu talebi karşılamak için şarj istasyonları yatırımı da bu artışa paralel olarak artmaktadır.\n",
    "\n",
    "Türkiye'de yer alan elektrikli otomobil sayısı toplam 1126 adet, Şarj soketi sayısı ise 582 ulaşmış bulunuyor. Türkiye'de 11 firmanın fiilen şarj istasyonu yatırımı bulunmakta, toplam 18 firma satış ve pazarlama faaliyetlerini sürdürmektedir.\n",
    "\n",
    "Türkiye'de satılan elektrikli otomobiller arasında; Mercedes, BMW, Tesla, Toyota, Kia, Honda, Hyundai, Renault gibi birçok marka bulunmaktadır.\n",
    "\n",
    "Elektrikli araçların pil maliyetlerinin önümüzdeki beş sene içerisinde daha da düşeceği tahmin edilmektedir. 2015 yılında, elektrikli araçlarda yer alan piller aracın toplam maliyetinin %57'sini oluştururken, 2019'da bu oran %33'e düşmüş bulunmaktadır. 2025'te bu oranın %20'ye kadar düşmesi beklenmektedir.\n",
    "\n",
    "Ülkemizde daha önceleri MTV'den (Motorlu Taşıtlar Vergisi) muaf olan elektrikli araçlar için halen MTV vergisi uygulanmaktadır.\n",
    "\n",
    "Türkiye Elektrikli ve Hibrit Araçlar Derneği (TEHAD) tarafından başlatılan girişimle 20-21 Nisan tarihleri Elektrikli ve Hibrit Sürüş Haftası olarak ilan edilmiş bulunmaktadır. 2019 yılında Elektrikli ve Hibrit Sürüş Haftası'nın ilki gerçekleştirilmiştir.\n",
    "\n",
    "Avrupa'da 2018 yılında 195.000 elektrikli araba satıldı. Avrupa'da en fazla şarj istasyonu 80 binin üzerinde Hollanda'da bulunuyor. Almanya'da 37 bin,  Fransa'da 34 bin adet şarj istasyonu yer alıyor.\n",
    "\n",
    "Avrupa ile kıyaslandığında ülkemizde elektrikli araç pazarının henüz çok daha küçük olduğunu söyleyebiliriz. Türkiye'de yeni elektrikli araba ve ikinci el elektrikli otomobil sayısının artması için maliyetlerin düşmesi ve şarj istasyonlarının artması ile mümkün olacaktır.\n",
    "\"\"\"\n",
    "df = df.lower()\n",
    "print(df)"
   ]
  },
  {
   "cell_type": "code",
   "execution_count": 49,
   "id": "fa8f7673",
   "metadata": {},
   "outputs": [
    {
     "name": "stdout",
     "output_type": "stream",
     "text": [
      "!\"#$%&'()*+,-./:;<=>?@[\\]^_`{|}~\n"
     ]
    }
   ],
   "source": [
    "import string\n",
    "print(string.punctuation)"
   ]
  },
  {
   "cell_type": "code",
   "execution_count": 50,
   "id": "526b581c",
   "metadata": {
    "scrolled": true
   },
   "outputs": [
    {
     "name": "stdout",
     "output_type": "stream",
     "text": [
      "\n",
      "elektrikli otomobiller hakkında merak edilenler\n",
      "\n",
      "elektrik enerjisi ile çalışan otomobillere elektrikli otomobil adı verilmektedir elektrikli otomobillerin yakıt tasarrufu sağlamasının yanı sıra karbon emisyonunu azaltması sebebiyle çevreye verilen zararın aza indirilmesi bakımından da olumlu etkileri bulunmaktadır elektrikli arabaların en önemli avantajlarından biri de sessiz çalışıyor olmalarıdır\n",
      "\n",
      "elektrikli otomobiller içten yanmalı motorlara sahip otomobillerden farklı olarak gücünü elektrik motorundan almakta yakıt olarak elektrik enerjisini kullanmaktadır\n",
      "\n",
      "elektrikli otomobil teknolojisindeki gelişmelerin elektrikli araçlara olan ilgiyi ve talebi her geçen gün artırmasıyla birçok otomobil üreticisi modelleri arasına seri üretim elektrikli otomobilleri eklemiştir\n",
      "\n",
      "elektrikli otomobiller arasında en fazla rağbet görenler hibrit diye adlandırılan elektrik ve yakıt teknolojisinin birlikte yer aldığı otomobillerdir bu otomobiller aracın kullanım sırasında hem elektrik hem de yakıt enerjisinden faydalanmaktadır\n",
      "\n",
      "dünyada ve türkiyede halen birçok farklı elektrikli araba modeli yer almakta\n",
      "\n",
      "2019 yılında satışa sunulacak modeller arasında audi etron mercedes eqc volvo xc40 mini e ekia niro elektrikli hyundai kona porsche taycan peugeot e208 ds3 crossback e jaguar xj aston martin rapide honda urban ev nissan leaf eplus volkswagen id neo ve tesla model 3 yer alıyor\n",
      "\n",
      "temel hibritler yalnızca rejeneratif frenlemeden ve yoldaki ivmeden şarj olmaktadır takveçalıştır hibritler elektrik şebekesinde şarj olmak için fişe takılabilir daha büyük akülere ve hatta daha düşük yakıt tüketimine imkan tanırlar hibrit olmayan sadece elektrikle çalışan otomobilde ise sadece akü bulunur ve yakıt gerekmez\n",
      "\n",
      "sadece elektrikle çalışan otomobiller hibrit araçlara göre daha pahalıdır uzun vadede yakıt tüketimi olmaması sebebiyle avantaj sağlamaktadır\n",
      "\n",
      "hibrit otomobiller\n",
      "hibrit otomobillerde iki adet motor bulunmaktadır i̇ki farklı güçten faydalandıkları için hibrit yani melez olarak adlandırılmaktadırlar\n",
      "\n",
      "i̇çten yanmalı ve elektrikli olmak üzere iki tip de motor kullanmaktadır elektrikli motoru içten yanmalı motora destek olacak şekilde geliştirilmiştir arabanız durma halindeyken iki motorda çalışmaz araç kalkış yaptığında elektrik motoru devreye girer hızlanma esnasında veya yokuşlarda her iki motor devreye girer\n",
      "\n",
      "otomobilde elektrikli motoru şarj eden bir mekanizma bulunmaz elektrik motoru içten yanmalı motor tarafından şarj edilmektedir düşük hızlarda elektrikli motor aracın çekişin sağlar yüksek hızlarda ise içten yanmalı motor devreye girmektedir\n",
      "\n",
      "emisyon hacimleri düşüktür elektrikli kullanım sırasında sessiz çalışırlar\n",
      "\n",
      "şarj edilebilir hibrit otomobiller tak çalıştır\n",
      "\n",
      "hibrit teknolojiyle aynı sisteme de olan bu otomobillerin dışardan şarj edilebilmelerini sağlayan fiş tertibatları vardır pilleri daha büyüktür şarj soketlerine takılarak şarj edilebilirler\n",
      "\n",
      "elektrikli otomobil kullanımının artmasının önündeki engellerin başında şarj istasyonlarının yaygın olmaması ve maliyetlerin alternatif araç seçeneklerine göre biraz daha yüksek olması yer almaktadır\n",
      "\n",
      "türkiyede elektrikli ve hibrit araçlar\n",
      "\n",
      "ülkemizde elektrikli otomobil sahipliği her geçen yıl artıyor bu talebi karşılamak için şarj istasyonları yatırımı da bu artışa paralel olarak artmaktadır\n",
      "\n",
      "türkiyede yer alan elektrikli otomobil sayısı toplam 1126 adet şarj soketi sayısı ise 582 ulaşmış bulunuyor türkiyede 11 firmanın fiilen şarj istasyonu yatırımı bulunmakta toplam 18 firma satış ve pazarlama faaliyetlerini sürdürmektedir\n",
      "\n",
      "türkiyede satılan elektrikli otomobiller arasında mercedes bmw tesla toyota kia honda hyundai renault gibi birçok marka bulunmaktadır\n",
      "\n",
      "elektrikli araçların pil maliyetlerinin önümüzdeki beş sene içerisinde daha da düşeceği tahmin edilmektedir 2015 yılında elektrikli araçlarda yer alan piller aracın toplam maliyetinin 57sini oluştururken 2019da bu oran 33e düşmüş bulunmaktadır 2025te bu oranın 20ye kadar düşmesi beklenmektedir\n",
      "\n",
      "ülkemizde daha önceleri mtvden motorlu taşıtlar vergisi muaf olan elektrikli araçlar için halen mtv vergisi uygulanmaktadır\n",
      "\n",
      "türkiye elektrikli ve hibrit araçlar derneği tehad tarafından başlatılan girişimle 2021 nisan tarihleri elektrikli ve hibrit sürüş haftası olarak ilan edilmiş bulunmaktadır 2019 yılında elektrikli ve hibrit sürüş haftasının ilki gerçekleştirilmiştir\n",
      "\n",
      "avrupada 2018 yılında 195000 elektrikli araba satıldı avrupada en fazla şarj istasyonu 80 binin üzerinde hollandada bulunuyor almanyada 37 bin  fransada 34 bin adet şarj istasyonu yer alıyor\n",
      "\n",
      "avrupa ile kıyaslandığında ülkemizde elektrikli araç pazarının henüz çok daha küçük olduğunu söyleyebiliriz türkiyede yeni elektrikli araba ve ikinci el elektrikli otomobil sayısının artması için maliyetlerin düşmesi ve şarj istasyonlarının artması ile mümkün olacaktır\n",
      "\n"
     ]
    }
   ],
   "source": [
    "df_p = \"\".join([char for char in df if char not in string.punctuation])\n",
    "print(df_p)"
   ]
  },
  {
   "cell_type": "code",
   "execution_count": 51,
   "id": "790a65d6",
   "metadata": {},
   "outputs": [
    {
     "name": "stdout",
     "output_type": "stream",
     "text": [
      "['elektrikli', 'otomobiller', 'hakkında', 'merak', 'edilenler', 'elektrik', 'enerjisi', 'ile', 'çalışan', 'otomobillere', 'elektrikli', 'otomobil', 'adı', 'verilmektedir', 'elektrikli', 'otomobillerin', 'yakıt', 'tasarrufu', 'sağlamasının', 'yanı', 'sıra', 'karbon', 'emisyonunu', 'azaltması', 'sebebiyle', 'çevreye', 'verilen', 'zararın', 'aza', 'indirilmesi', 'bakımından', 'da', 'olumlu', 'etkileri', 'bulunmaktadır', 'elektrikli', 'arabaların', 'en', 'önemli', 'avantajlarından', 'biri', 'de', 'sessiz', 'çalışıyor', 'olmalarıdır', 'elektrikli', 'otomobiller', 'içten', 'yanmalı', 'motorlara', 'sahip', 'otomobillerden', 'farklı', 'olarak', 'gücünü', 'elektrik', 'motorundan', 'almakta', 'yakıt', 'olarak', 'elektrik', 'enerjisini', 'kullanmaktadır', 'elektrikli', 'otomobil', 'teknolojisindeki', 'gelişmelerin', 'elektrikli', 'araçlara', 'olan', 'ilgiyi', 've', 'talebi', 'her', 'geçen', 'gün', 'artırmasıyla', 'birçok', 'otomobil', 'üreticisi', 'modelleri', 'arasına', 'seri', 'üretim', 'elektrikli', 'otomobilleri', 'eklemiştir', 'elektrikli', 'otomobiller', 'arasında', 'en', 'fazla', 'rağbet', 'görenler', 'hibrit', 'diye', 'adlandırılan', 'elektrik', 've', 'yakıt', 'teknolojisinin', 'birlikte', 'yer', 'aldığı', 'otomobillerdir', 'bu', 'otomobiller', 'aracın', 'kullanım', 'sırasında', 'hem', 'elektrik', 'hem', 'de', 'yakıt', 'enerjisinden', 'faydalanmaktadır', 'dünyada', 've', 'türkiyede', 'halen', 'birçok', 'farklı', 'elektrikli', 'araba', 'modeli', 'yer', 'almakta', '2019', 'yılında', 'satışa', 'sunulacak', 'modeller', 'arasında', 'audi', 'etron', 'mercedes', 'eqc', 'volvo', 'xc40', 'mini', 'e', 'ekia', 'niro', 'elektrikli', 'hyundai', 'kona', 'porsche', 'taycan', 'peugeot', 'e208', 'ds3', 'crossback', 'e', 'jaguar', 'xj', 'aston', 'martin', 'rapide', 'honda', 'urban', 'ev', 'nissan', 'leaf', 'eplus', 'volkswagen', 'id', 'neo', 've', 'tesla', 'model', '3', 'yer', 'alıyor', 'temel', 'hibritler', 'yalnızca', 'rejeneratif', 'frenlemeden', 've', 'yoldaki', 'ivmeden', 'şarj', 'olmaktadır', 'takveçalıştır', 'hibritler', 'elektrik', 'şebekesinde', 'şarj', 'olmak', 'için', 'fişe', 'takılabilir', 'daha', 'büyük', 'akülere', 've', 'hatta', 'daha', 'düşük', 'yakıt', 'tüketimine', 'imkan', 'tanırlar', 'hibrit', 'olmayan', 'sadece', 'elektrikle', 'çalışan', 'otomobilde', 'ise', 'sadece', 'akü', 'bulunur', 've', 'yakıt', 'gerekmez', 'sadece', 'elektrikle', 'çalışan', 'otomobiller', 'hibrit', 'araçlara', 'göre', 'daha', 'pahalıdır', 'uzun', 'vadede', 'yakıt', 'tüketimi', 'olmaması', 'sebebiyle', 'avantaj', 'sağlamaktadır', 'hibrit', 'otomobiller', 'hibrit', 'otomobillerde', 'iki', 'adet', 'motor', 'bulunmaktadır', 'i̇ki', 'farklı', 'güçten', 'faydalandıkları', 'için', 'hibrit', 'yani', 'melez', 'olarak', 'adlandırılmaktadırlar', 'i̇çten', 'yanmalı', 've', 'elektrikli', 'olmak', 'üzere', 'iki', 'tip', 'de', 'motor', 'kullanmaktadır', 'elektrikli', 'motoru', 'içten', 'yanmalı', 'motora', 'destek', 'olacak', 'şekilde', 'geliştirilmiştir', 'arabanız', 'durma', 'halindeyken', 'iki', 'motorda', 'çalışmaz', 'araç', 'kalkış', 'yaptığında', 'elektrik', 'motoru', 'devreye', 'girer', 'hızlanma', 'esnasında', 'veya', 'yokuşlarda', 'her', 'iki', 'motor', 'devreye', 'girer', 'otomobilde', 'elektrikli', 'motoru', 'şarj', 'eden', 'bir', 'mekanizma', 'bulunmaz', 'elektrik', 'motoru', 'içten', 'yanmalı', 'motor', 'tarafından', 'şarj', 'edilmektedir', 'düşük', 'hızlarda', 'elektrikli', 'motor', 'aracın', 'çekişin', 'sağlar', 'yüksek', 'hızlarda', 'ise', 'içten', 'yanmalı', 'motor', 'devreye', 'girmektedir', 'emisyon', 'hacimleri', 'düşüktür', 'elektrikli', 'kullanım', 'sırasında', 'sessiz', 'çalışırlar', 'şarj', 'edilebilir', 'hibrit', 'otomobiller', 'tak', 'çalıştır', 'hibrit', 'teknolojiyle', 'aynı', 'sisteme', 'de', 'olan', 'bu', 'otomobillerin', 'dışardan', 'şarj', 'edilebilmelerini', 'sağlayan', 'fiş', 'tertibatları', 'vardır', 'pilleri', 'daha', 'büyüktür', 'şarj', 'soketlerine', 'takılarak', 'şarj', 'edilebilirler', 'elektrikli', 'otomobil', 'kullanımının', 'artmasının', 'önündeki', 'engellerin', 'başında', 'şarj', 'istasyonlarının', 'yaygın', 'olmaması', 've', 'maliyetlerin', 'alternatif', 'araç', 'seçeneklerine', 'göre', 'biraz', 'daha', 'yüksek', 'olması', 'yer', 'almaktadır', 'türkiyede', 'elektrikli', 've', 'hibrit', 'araçlar', 'ülkemizde', 'elektrikli', 'otomobil', 'sahipliği', 'her', 'geçen', 'yıl', 'artıyor', 'bu', 'talebi', 'karşılamak', 'için', 'şarj', 'istasyonları', 'yatırımı', 'da', 'bu', 'artışa', 'paralel', 'olarak', 'artmaktadır', 'türkiyede', 'yer', 'alan', 'elektrikli', 'otomobil', 'sayısı', 'toplam', '1126', 'adet', 'şarj', 'soketi', 'sayısı', 'ise', '582', 'ulaşmış', 'bulunuyor', 'türkiyede', '11', 'firmanın', 'fiilen', 'şarj', 'istasyonu', 'yatırımı', 'bulunmakta', 'toplam', '18', 'firma', 'satış', 've', 'pazarlama', 'faaliyetlerini', 'sürdürmektedir', 'türkiyede', 'satılan', 'elektrikli', 'otomobiller', 'arasında', 'mercedes', 'bmw', 'tesla', 'toyota', 'kia', 'honda', 'hyundai', 'renault', 'gibi', 'birçok', 'marka', 'bulunmaktadır', 'elektrikli', 'araçların', 'pil', 'maliyetlerinin', 'önümüzdeki', 'beş', 'sene', 'içerisinde', 'daha', 'da', 'düşeceği', 'tahmin', 'edilmektedir', '2015', 'yılında', 'elektrikli', 'araçlarda', 'yer', 'alan', 'piller', 'aracın', 'toplam', 'maliyetinin', '57sini', 'oluştururken', '2019da', 'bu', 'oran', '33e', 'düşmüş', 'bulunmaktadır', '2025te', 'bu', 'oranın', '20ye', 'kadar', 'düşmesi', 'beklenmektedir', 'ülkemizde', 'daha', 'önceleri', 'mtvden', 'motorlu', 'taşıtlar', 'vergisi', 'muaf', 'olan', 'elektrikli', 'araçlar', 'için', 'halen', 'mtv', 'vergisi', 'uygulanmaktadır', 'türkiye', 'elektrikli', 've', 'hibrit', 'araçlar', 'derneği', 'tehad', 'tarafından', 'başlatılan', 'girişimle', '2021', 'nisan', 'tarihleri', 'elektrikli', 've', 'hibrit', 'sürüş', 'haftası', 'olarak', 'ilan', 'edilmiş', 'bulunmaktadır', '2019', 'yılında', 'elektrikli', 've', 'hibrit', 'sürüş', 'haftasının', 'ilki', 'gerçekleştirilmiştir', 'avrupada', '2018', 'yılında', '195000', 'elektrikli', 'araba', 'satıldı', 'avrupada', 'en', 'fazla', 'şarj', 'istasyonu', '80', 'binin', 'üzerinde', 'hollandada', 'bulunuyor', 'almanyada', '37', 'bin', 'fransada', '34', 'bin', 'adet', 'şarj', 'istasyonu', 'yer', 'alıyor', 'avrupa', 'ile', 'kıyaslandığında', 'ülkemizde', 'elektrikli', 'araç', 'pazarının', 'henüz', 'çok', 'daha', 'küçük', 'olduğunu', 'söyleyebiliriz', 'türkiyede', 'yeni', 'elektrikli', 'araba', 've', 'ikinci', 'el', 'elektrikli', 'otomobil', 'sayısının', 'artması', 'için', 'maliyetlerin', 'düşmesi', 've', 'şarj', 'istasyonlarının', 'artması', 'ile', 'mümkün', 'olacaktır']\n"
     ]
    }
   ],
   "source": [
    "from nltk.tokenize import word_tokenize\n",
    "words = word_tokenize(df_p)\n",
    "print(words)"
   ]
  },
  {
   "cell_type": "code",
   "execution_count": 52,
   "id": "53379bc1",
   "metadata": {},
   "outputs": [
    {
     "name": "stdout",
     "output_type": "stream",
     "text": [
      "['acaba', 'ama', 'aslında', 'az', 'bazı', 'belki', 'biri', 'birkaç', 'birşey', 'biz', 'bu', 'çok', 'çünkü', 'da', 'daha', 'de', 'defa', 'diye', 'eğer', 'en', 'gibi', 'hem', 'hep', 'hepsi', 'her', 'hiç', 'için', 'ile', 'ise', 'kez', 'ki', 'kim', 'mı', 'mu', 'mü', 'nasıl', 'ne', 'neden', 'nerde', 'nerede', 'nereye', 'niçin', 'niye', 'o', 'sanki', 'şey', 'siz', 'şu', 'tüm', 've', 'veya', 'ya', 'yani']\n"
     ]
    }
   ],
   "source": [
    "from nltk.corpus import stopwords\n",
    "stop_words = stopwords.words('turkish')\n",
    "print(stop_words)"
   ]
  },
  {
   "cell_type": "code",
   "execution_count": 53,
   "id": "a2ca5ddd",
   "metadata": {},
   "outputs": [
    {
     "name": "stdout",
     "output_type": "stream",
     "text": [
      "['elektrikli', 'otomobiller', 'hakkında', 'merak', 'edilenler', 'elektrik', 'enerjisi', 'çalışan', 'otomobillere', 'elektrikli', 'otomobil', 'adı', 'verilmektedir', 'elektrikli', 'otomobillerin', 'yakıt', 'tasarrufu', 'sağlamasının', 'yanı', 'sıra', 'karbon', 'emisyonunu', 'azaltması', 'sebebiyle', 'çevreye', 'verilen', 'zararın', 'aza', 'indirilmesi', 'bakımından', 'olumlu', 'etkileri', 'bulunmaktadır', 'elektrikli', 'arabaların', 'önemli', 'avantajlarından', 'sessiz', 'çalışıyor', 'olmalarıdır', 'elektrikli', 'otomobiller', 'içten', 'yanmalı', 'motorlara', 'sahip', 'otomobillerden', 'farklı', 'olarak', 'gücünü', 'elektrik', 'motorundan', 'almakta', 'yakıt', 'olarak', 'elektrik', 'enerjisini', 'kullanmaktadır', 'elektrikli', 'otomobil', 'teknolojisindeki', 'gelişmelerin', 'elektrikli', 'araçlara', 'olan', 'ilgiyi', 'talebi', 'geçen', 'gün', 'artırmasıyla', 'birçok', 'otomobil', 'üreticisi', 'modelleri', 'arasına', 'seri', 'üretim', 'elektrikli', 'otomobilleri', 'eklemiştir', 'elektrikli', 'otomobiller', 'arasında', 'fazla', 'rağbet', 'görenler', 'hibrit', 'adlandırılan', 'elektrik', 'yakıt', 'teknolojisinin', 'birlikte', 'yer', 'aldığı', 'otomobillerdir', 'otomobiller', 'aracın', 'kullanım', 'sırasında', 'elektrik', 'yakıt', 'enerjisinden', 'faydalanmaktadır', 'dünyada', 'türkiyede', 'halen', 'birçok', 'farklı', 'elektrikli', 'araba', 'modeli', 'yer', 'almakta', '2019', 'yılında', 'satışa', 'sunulacak', 'modeller', 'arasında', 'audi', 'etron', 'mercedes', 'eqc', 'volvo', 'xc40', 'mini', 'e', 'ekia', 'niro', 'elektrikli', 'hyundai', 'kona', 'porsche', 'taycan', 'peugeot', 'e208', 'ds3', 'crossback', 'e', 'jaguar', 'xj', 'aston', 'martin', 'rapide', 'honda', 'urban', 'ev', 'nissan', 'leaf', 'eplus', 'volkswagen', 'id', 'neo', 'tesla', 'model', '3', 'yer', 'alıyor', 'temel', 'hibritler', 'yalnızca', 'rejeneratif', 'frenlemeden', 'yoldaki', 'ivmeden', 'şarj', 'olmaktadır', 'takveçalıştır', 'hibritler', 'elektrik', 'şebekesinde', 'şarj', 'olmak', 'fişe', 'takılabilir', 'büyük', 'akülere', 'hatta', 'düşük', 'yakıt', 'tüketimine', 'imkan', 'tanırlar', 'hibrit', 'olmayan', 'sadece', 'elektrikle', 'çalışan', 'otomobilde', 'sadece', 'akü', 'bulunur', 'yakıt', 'gerekmez', 'sadece', 'elektrikle', 'çalışan', 'otomobiller', 'hibrit', 'araçlara', 'göre', 'pahalıdır', 'uzun', 'vadede', 'yakıt', 'tüketimi', 'olmaması', 'sebebiyle', 'avantaj', 'sağlamaktadır', 'hibrit', 'otomobiller', 'hibrit', 'otomobillerde', 'iki', 'adet', 'motor', 'bulunmaktadır', 'i̇ki', 'farklı', 'güçten', 'faydalandıkları', 'hibrit', 'melez', 'olarak', 'adlandırılmaktadırlar', 'i̇çten', 'yanmalı', 'elektrikli', 'olmak', 'üzere', 'iki', 'tip', 'motor', 'kullanmaktadır', 'elektrikli', 'motoru', 'içten', 'yanmalı', 'motora', 'destek', 'olacak', 'şekilde', 'geliştirilmiştir', 'arabanız', 'durma', 'halindeyken', 'iki', 'motorda', 'çalışmaz', 'araç', 'kalkış', 'yaptığında', 'elektrik', 'motoru', 'devreye', 'girer', 'hızlanma', 'esnasında', 'yokuşlarda', 'iki', 'motor', 'devreye', 'girer', 'otomobilde', 'elektrikli', 'motoru', 'şarj', 'eden', 'bir', 'mekanizma', 'bulunmaz', 'elektrik', 'motoru', 'içten', 'yanmalı', 'motor', 'tarafından', 'şarj', 'edilmektedir', 'düşük', 'hızlarda', 'elektrikli', 'motor', 'aracın', 'çekişin', 'sağlar', 'yüksek', 'hızlarda', 'içten', 'yanmalı', 'motor', 'devreye', 'girmektedir', 'emisyon', 'hacimleri', 'düşüktür', 'elektrikli', 'kullanım', 'sırasında', 'sessiz', 'çalışırlar', 'şarj', 'edilebilir', 'hibrit', 'otomobiller', 'tak', 'çalıştır', 'hibrit', 'teknolojiyle', 'aynı', 'sisteme', 'olan', 'otomobillerin', 'dışardan', 'şarj', 'edilebilmelerini', 'sağlayan', 'fiş', 'tertibatları', 'vardır', 'pilleri', 'büyüktür', 'şarj', 'soketlerine', 'takılarak', 'şarj', 'edilebilirler', 'elektrikli', 'otomobil', 'kullanımının', 'artmasının', 'önündeki', 'engellerin', 'başında', 'şarj', 'istasyonlarının', 'yaygın', 'olmaması', 'maliyetlerin', 'alternatif', 'araç', 'seçeneklerine', 'göre', 'biraz', 'yüksek', 'olması', 'yer', 'almaktadır', 'türkiyede', 'elektrikli', 'hibrit', 'araçlar', 'ülkemizde', 'elektrikli', 'otomobil', 'sahipliği', 'geçen', 'yıl', 'artıyor', 'talebi', 'karşılamak', 'şarj', 'istasyonları', 'yatırımı', 'artışa', 'paralel', 'olarak', 'artmaktadır', 'türkiyede', 'yer', 'alan', 'elektrikli', 'otomobil', 'sayısı', 'toplam', '1126', 'adet', 'şarj', 'soketi', 'sayısı', '582', 'ulaşmış', 'bulunuyor', 'türkiyede', '11', 'firmanın', 'fiilen', 'şarj', 'istasyonu', 'yatırımı', 'bulunmakta', 'toplam', '18', 'firma', 'satış', 'pazarlama', 'faaliyetlerini', 'sürdürmektedir', 'türkiyede', 'satılan', 'elektrikli', 'otomobiller', 'arasında', 'mercedes', 'bmw', 'tesla', 'toyota', 'kia', 'honda', 'hyundai', 'renault', 'birçok', 'marka', 'bulunmaktadır', 'elektrikli', 'araçların', 'pil', 'maliyetlerinin', 'önümüzdeki', 'beş', 'sene', 'içerisinde', 'düşeceği', 'tahmin', 'edilmektedir', '2015', 'yılında', 'elektrikli', 'araçlarda', 'yer', 'alan', 'piller', 'aracın', 'toplam', 'maliyetinin', '57sini', 'oluştururken', '2019da', 'oran', '33e', 'düşmüş', 'bulunmaktadır', '2025te', 'oranın', '20ye', 'kadar', 'düşmesi', 'beklenmektedir', 'ülkemizde', 'önceleri', 'mtvden', 'motorlu', 'taşıtlar', 'vergisi', 'muaf', 'olan', 'elektrikli', 'araçlar', 'halen', 'mtv', 'vergisi', 'uygulanmaktadır', 'türkiye', 'elektrikli', 'hibrit', 'araçlar', 'derneği', 'tehad', 'tarafından', 'başlatılan', 'girişimle', '2021', 'nisan', 'tarihleri', 'elektrikli', 'hibrit', 'sürüş', 'haftası', 'olarak', 'ilan', 'edilmiş', 'bulunmaktadır', '2019', 'yılında', 'elektrikli', 'hibrit', 'sürüş', 'haftasının', 'ilki', 'gerçekleştirilmiştir', 'avrupada', '2018', 'yılında', '195000', 'elektrikli', 'araba', 'satıldı', 'avrupada', 'fazla', 'şarj', 'istasyonu', '80', 'binin', 'üzerinde', 'hollandada', 'bulunuyor', 'almanyada', '37', 'bin', 'fransada', '34', 'bin', 'adet', 'şarj', 'istasyonu', 'yer', 'alıyor', 'avrupa', 'kıyaslandığında', 'ülkemizde', 'elektrikli', 'araç', 'pazarının', 'henüz', 'küçük', 'olduğunu', 'söyleyebiliriz', 'türkiyede', 'yeni', 'elektrikli', 'araba', 'ikinci', 'el', 'elektrikli', 'otomobil', 'sayısının', 'artması', 'maliyetlerin', 'düşmesi', 'şarj', 'istasyonlarının', 'artması', 'mümkün', 'olacaktır']\n"
     ]
    }
   ],
   "source": [
    "filtered_words = [word for word in words if word not in stop_words]\n",
    "print(filtered_words)"
   ]
  },
  {
   "cell_type": "code",
   "execution_count": 54,
   "id": "7d55f54b",
   "metadata": {},
   "outputs": [
    {
     "name": "stdout",
     "output_type": "stream",
     "text": [
      "['elektrikli', 'otomobil', 'hakkında', 'merak', 'edilenl', 'elektrik', 'enerjisi', 'çalışan', 'otomobiller', 'elektrikli', 'otomobil', 'adı', 'verilmektedir', 'elektrikli', 'otomobillerin', 'yakıt', 'tasarrufu', 'sağlamasının', 'yanı', 'sıra', 'karbon', 'emisyonunu', 'azaltması', 'sebebiyl', 'çevrey', 'verilen', 'zararın', 'aza', 'indirilmesi', 'bakımından', 'olumlu', 'etkileri', 'bulunmaktadır', 'elektrikli', 'arabaların', 'önemli', 'avantajlarından', 'sessiz', 'çalışıyor', 'olmalarıdır', 'elektrikli', 'otomobil', 'içten', 'yanmalı', 'motorlara', 'sahip', 'otomobillerden', 'farklı', 'olarak', 'gücünü', 'elektrik', 'motorundan', 'almakta', 'yakıt', 'olarak', 'elektrik', 'enerjisini', 'kullanmaktadır', 'elektrikli', 'otomobil', 'teknolojisindeki', 'gelişmelerin', 'elektrikli', 'araçlara', 'olan', 'ilgiyi', 'talebi', 'geçen', 'gün', 'artırmasıyla', 'birçok', 'otomobil', 'üreticisi', 'modelleri', 'arasına', 'seri', 'üretim', 'elektrikli', 'otomobilleri', 'eklemiştir', 'elektrikli', 'otomobil', 'arasında', 'fazla', 'rağbet', 'görenler', 'hibrit', 'adlandırılan', 'elektrik', 'yakıt', 'teknolojisinin', 'birlikt', 'yer', 'aldığı', 'otomobillerdir', 'otomobil', 'aracın', 'kullanım', 'sırasında', 'elektrik', 'yakıt', 'enerjisinden', 'faydalanmaktadır', 'dünyada', 'türkiyed', 'halen', 'birçok', 'farklı', 'elektrikli', 'araba', 'mode', 'yer', 'almakta', '2019', 'yılında', 'satışa', 'sunulacak', 'model', 'arasında', 'audi', 'etron', 'merced', 'eqc', 'volvo', 'xc40', 'mini', 'e', 'ekia', 'niro', 'elektrikli', 'hyundai', 'kona', 'porsch', 'taycan', 'peugeot', 'e208', 'ds3', 'crossback', 'e', 'jaguar', 'xj', 'aston', 'martin', 'rapid', 'honda', 'urban', 'ev', 'nissan', 'leaf', 'eplu', 'volkswagen', 'id', 'neo', 'tesla', 'model', '3', 'yer', 'alıyor', 'temel', 'hibritl', 'yalnızca', 'rejeneratif', 'frenlemeden', 'yoldaki', 'ivmeden', 'şarj', 'olmaktadır', 'takveçalıştır', 'hibritl', 'elektrik', 'şebekesind', 'şarj', 'olmak', 'fişe', 'takılabilir', 'büyük', 'aküler', 'hatta', 'düşük', 'yakıt', 'tüketimin', 'imkan', 'tanırlar', 'hibrit', 'olmayan', 'sadec', 'elektrikl', 'çalışan', 'otomobild', 'sadec', 'akü', 'bulunur', 'yakıt', 'gerekmez', 'sadec', 'elektrikl', 'çalışan', 'otomobil', 'hibrit', 'araçlara', 'göre', 'pahalıdır', 'uzun', 'vaded', 'yakıt', 'tüketimi', 'olmaması', 'sebebiyl', 'avantaj', 'sağlamaktadır', 'hibrit', 'otomobil', 'hibrit', 'otomobillerd', 'iki', 'adet', 'motor', 'bulunmaktadır', 'i̇ki', 'farklı', 'güçten', 'faydalandıkları', 'hibrit', 'melez', 'olarak', 'adlandırılmaktadırlar', 'i̇çten', 'yanmalı', 'elektrikli', 'olmak', 'üzere', 'iki', 'tip', 'motor', 'kullanmaktadır', 'elektrikli', 'motoru', 'içten', 'yanmalı', 'motora', 'destek', 'olacak', 'şekild', 'geliştirilmiştir', 'arabanız', 'durma', 'halindeyken', 'iki', 'motorda', 'çalışmaz', 'araç', 'kalkış', 'yaptığında', 'elektrik', 'motoru', 'devrey', 'girer', 'hızlanma', 'esnasında', 'yokuşlarda', 'iki', 'motor', 'devrey', 'girer', 'otomobild', 'elektrikli', 'motoru', 'şarj', 'eden', 'bir', 'mekanizma', 'bulunmaz', 'elektrik', 'motoru', 'içten', 'yanmalı', 'motor', 'tarafından', 'şarj', 'edilmektedir', 'düşük', 'hızlarda', 'elektrikli', 'motor', 'aracın', 'çekişin', 'sağlar', 'yüksek', 'hızlarda', 'içten', 'yanmalı', 'motor', 'devrey', 'girmektedir', 'emisyon', 'hacimleri', 'düşüktür', 'elektrikli', 'kullanım', 'sırasında', 'sessiz', 'çalışırlar', 'şarj', 'edilebilir', 'hibrit', 'otomobil', 'tak', 'çalıştır', 'hibrit', 'teknolojiyl', 'aynı', 'sistem', 'olan', 'otomobillerin', 'dışardan', 'şarj', 'edilebilmelerini', 'sağlayan', 'fiş', 'tertibatları', 'vardır', 'pilleri', 'büyüktür', 'şarj', 'soketlerin', 'takılarak', 'şarj', 'edilebilirl', 'elektrikli', 'otomobil', 'kullanımının', 'artmasının', 'önündeki', 'engellerin', 'başında', 'şarj', 'istasyonlarının', 'yaygın', 'olmaması', 'maliyetlerin', 'alternatif', 'araç', 'seçeneklerin', 'göre', 'biraz', 'yüksek', 'olması', 'yer', 'almaktadır', 'türkiyed', 'elektrikli', 'hibrit', 'araçlar', 'ülkemizd', 'elektrikli', 'otomobil', 'sahipliği', 'geçen', 'yıl', 'artıyor', 'talebi', 'karşılamak', 'şarj', 'istasyonları', 'yatırımı', 'artışa', 'paralel', 'olarak', 'artmaktadır', 'türkiyed', 'yer', 'alan', 'elektrikli', 'otomobil', 'sayısı', 'toplam', '1126', 'adet', 'şarj', 'soketi', 'sayısı', '582', 'ulaşmış', 'bulunuyor', 'türkiyed', '11', 'firmanın', 'fiilen', 'şarj', 'istasyonu', 'yatırımı', 'bulunmakta', 'toplam', '18', 'firma', 'satış', 'pazarlama', 'faaliyetlerini', 'sürdürmektedir', 'türkiyed', 'satılan', 'elektrikli', 'otomobil', 'arasında', 'merced', 'bmw', 'tesla', 'toyota', 'kia', 'honda', 'hyundai', 'renault', 'birçok', 'marka', 'bulunmaktadır', 'elektrikli', 'araçların', 'pil', 'maliyetlerinin', 'önümüzdeki', 'beş', 'sene', 'içerisind', 'düşeceği', 'tahmin', 'edilmektedir', '2015', 'yılında', 'elektrikli', 'araçlarda', 'yer', 'alan', 'piller', 'aracın', 'toplam', 'maliyetinin', '57sini', 'oluştururken', '2019da', 'oran', '33e', 'düşmüş', 'bulunmaktadır', '2025te', 'oranın', '20ye', 'kadar', 'düşmesi', 'beklenmektedir', 'ülkemizd', 'önceleri', 'mtvden', 'motorlu', 'taşıtlar', 'vergisi', 'muaf', 'olan', 'elektrikli', 'araçlar', 'halen', 'mtv', 'vergisi', 'uygulanmaktadır', 'türkiy', 'elektrikli', 'hibrit', 'araçlar', 'derneği', 'tehad', 'tarafından', 'başlatılan', 'girişiml', '2021', 'nisan', 'tarihleri', 'elektrikli', 'hibrit', 'sürüş', 'haftası', 'olarak', 'ilan', 'edilmiş', 'bulunmaktadır', '2019', 'yılında', 'elektrikli', 'hibrit', 'sürüş', 'haftasının', 'ilki', 'gerçekleştirilmiştir', 'avrupada', '2018', 'yılında', '195000', 'elektrikli', 'araba', 'satıldı', 'avrupada', 'fazla', 'şarj', 'istasyonu', '80', 'binin', 'üzerind', 'hollandada', 'bulunuyor', 'almanyada', '37', 'bin', 'fransada', '34', 'bin', 'adet', 'şarj', 'istasyonu', 'yer', 'alıyor', 'avrupa', 'kıyaslandığında', 'ülkemizd', 'elektrikli', 'araç', 'pazarının', 'henüz', 'küçük', 'olduğunu', 'söyleyebiliriz', 'türkiyed', 'yeni', 'elektrikli', 'araba', 'ikinci', 'el', 'elektrikli', 'otomobil', 'sayısının', 'artması', 'maliyetlerin', 'düşmesi', 'şarj', 'istasyonlarının', 'artması', 'mümkün', 'olacaktır']\n"
     ]
    }
   ],
   "source": [
    "from nltk.stem.porter import PorterStemmer\n",
    "porter = PorterStemmer()\n",
    "stemmed = [porter.stem(word) for word in filtered_words]\n",
    "print(stemmed)"
   ]
  },
  {
   "cell_type": "code",
   "execution_count": 55,
   "id": "1425fd97",
   "metadata": {},
   "outputs": [
    {
     "name": "stdout",
     "output_type": "stream",
     "text": [
      "[('elektrikli', 'RB'), ('otomobiller', 'NN'), ('hakkında', 'NN'), ('merak', 'NN'), ('edilenler', 'NN'), ('elektrik', 'NN'), ('enerjisi', 'NN'), ('çalışan', 'NNP'), ('otomobillere', 'RB'), ('elektrikli', 'VBZ'), ('otomobil', 'JJ'), ('adı', 'NN'), ('verilmektedir', 'NN'), ('elektrikli', 'NN'), ('otomobillerin', 'NN'), ('yakıt', 'NN'), ('tasarrufu', 'NN'), ('sağlamasının', 'NN'), ('yanı', 'NN'), ('sıra', 'NN'), ('karbon', 'NN'), ('emisyonunu', 'NN'), ('azaltması', 'NN'), ('sebebiyle', 'JJ'), ('çevreye', 'NNP'), ('verilen', 'NN'), ('zararın', 'NN'), ('aza', 'NN'), ('indirilmesi', 'NN'), ('bakımından', 'NN'), ('olumlu', 'NN'), ('etkileri', 'NN'), ('bulunmaktadır', 'NN'), ('elektrikli', 'NN'), ('arabaların', 'NN'), ('önemli', 'NNP'), ('avantajlarından', 'NN'), ('sessiz', 'NN'), ('çalışıyor', 'NNP'), ('olmalarıdır', 'NN'), ('elektrikli', 'NN'), ('otomobiller', 'NN'), ('içten', 'JJ'), ('yanmalı', 'NN'), ('motorlara', 'NN'), ('sahip', 'NN'), ('otomobillerden', 'JJ'), ('farklı', 'NN'), ('olarak', 'NN'), ('gücünü', 'NN'), ('elektrik', 'NN'), ('motorundan', 'NN'), ('almakta', 'NN'), ('yakıt', 'NN'), ('olarak', 'NN'), ('elektrik', 'NN'), ('enerjisini', 'NN'), ('kullanmaktadır', 'NN'), ('elektrikli', 'NN'), ('otomobil', 'NN'), ('teknolojisindeki', 'NN'), ('gelişmelerin', 'NN'), ('elektrikli', 'NN'), ('araçlara', 'NN'), ('olan', 'NN'), ('ilgiyi', 'VBP'), ('talebi', 'NN'), ('geçen', 'NN'), ('gün', 'NN'), ('artırmasıyla', 'NN'), ('birçok', 'NN'), ('otomobil', 'NN'), ('üreticisi', 'NNP'), ('modelleri', 'NN'), ('arasına', 'NN'), ('seri', 'NN'), ('üretim', 'NNP'), ('elektrikli', 'NN'), ('otomobilleri', 'NN'), ('eklemiştir', 'NN'), ('elektrikli', 'VBP'), ('otomobiller', 'NN'), ('arasında', 'NN'), ('fazla', 'NN'), ('rağbet', 'NN'), ('görenler', 'NN'), ('hibrit', 'NN'), ('adlandırılan', 'NN'), ('elektrik', 'VBP'), ('yakıt', 'NN'), ('teknolojisinin', 'NN'), ('birlikte', 'NN'), ('yer', 'NN'), ('aldığı', 'NN'), ('otomobillerdir', 'VBP'), ('otomobiller', 'NN'), ('aracın', 'NN'), ('kullanım', 'NN'), ('sırasında', 'NN'), ('elektrik', 'NN'), ('yakıt', 'NN'), ('enerjisinden', 'JJ'), ('faydalanmaktadır', 'NN'), ('dünyada', 'NN'), ('türkiyede', 'NN'), ('halen', 'NN'), ('birçok', 'NN'), ('farklı', 'NN'), ('elektrikli', 'NN'), ('araba', 'NN'), ('modeli', 'JJ'), ('yer', 'NN'), ('almakta', 'NN'), ('2019', 'CD'), ('yılında', 'NN'), ('satışa', 'NN'), ('sunulacak', 'NN'), ('modeller', 'NN'), ('arasında', 'NN'), ('audi', 'NN'), ('etron', 'NN'), ('mercedes', 'NNS'), ('eqc', 'VBP'), ('volvo', 'JJ'), ('xc40', 'NNP'), ('mini', 'NN'), ('e', 'NN'), ('ekia', 'NN'), ('niro', 'JJ'), ('elektrikli', 'NN'), ('hyundai', 'NN'), ('kona', 'NNP'), ('porsche', 'NN'), ('taycan', 'JJ'), ('peugeot', 'NN'), ('e208', 'NN'), ('ds3', 'NN'), ('crossback', 'NN'), ('e', 'NN'), ('jaguar', 'NN'), ('xj', 'NNP'), ('aston', 'NN'), ('martin', 'NN'), ('rapide', 'NN'), ('honda', 'NN'), ('urban', 'JJ'), ('ev', 'NN'), ('nissan', 'JJ'), ('leaf', 'NN'), ('eplus', 'CC'), ('volkswagen', 'NN'), ('id', 'NN'), ('neo', 'JJ'), ('tesla', 'NN'), ('model', 'NN'), ('3', 'CD'), ('yer', 'NN'), ('alıyor', 'NN'), ('temel', 'NN'), ('hibritler', 'NN'), ('yalnızca', 'NN'), ('rejeneratif', 'NN'), ('frenlemeden', 'JJ'), ('yoldaki', 'NN'), ('ivmeden', 'JJ'), ('şarj', 'NN'), ('olmaktadır', 'NN'), ('takveçalıştır', 'NN'), ('hibritler', 'NN'), ('elektrik', 'NN'), ('şebekesinde', 'NNP'), ('şarj', 'NNP'), ('olmak', 'MD'), ('fişe', 'VB'), ('takılabilir', 'JJ'), ('büyük', 'NN'), ('akülere', 'RB'), ('hatta', 'VBZ'), ('düşük', 'JJ'), ('yakıt', 'NNS'), ('tüketimine', 'VBP'), ('imkan', 'JJ'), ('tanırlar', 'JJ'), ('hibrit', 'NN'), ('olmayan', 'JJ'), ('sadece', 'NN'), ('elektrikle', 'NN'), ('çalışan', 'NNP'), ('otomobilde', 'VBZ'), ('sadece', 'JJ'), ('akü', 'NN'), ('bulunur', 'NN'), ('yakıt', 'NN'), ('gerekmez', 'NN'), ('sadece', 'NN'), ('elektrikle', 'NN'), ('çalışan', 'NNP'), ('otomobiller', 'NN'), ('hibrit', 'NN'), ('araçlara', 'NN'), ('göre', 'NN'), ('pahalıdır', 'NN'), ('uzun', 'JJ'), ('vadede', 'NN'), ('yakıt', 'NN'), ('tüketimi', 'NN'), ('olmaması', 'JJ'), ('sebebiyle', 'JJ'), ('avantaj', 'NN'), ('sağlamaktadır', 'NN'), ('hibrit', 'NN'), ('otomobiller', 'NN'), ('hibrit', 'NN'), ('otomobillerde', 'NN'), ('iki', 'NN'), ('adet', 'NN'), ('motor', 'NN'), ('bulunmaktadır', 'NN'), ('i̇ki', 'NN'), ('farklı', 'NN'), ('güçten', 'VBP'), ('faydalandıkları', 'JJ'), ('hibrit', 'NN'), ('melez', 'NN'), ('olarak', 'IN'), ('adlandırılmaktadırlar', 'JJ'), ('i̇çten', 'JJ'), ('yanmalı', 'NN'), ('elektrikli', 'NN'), ('olmak', 'NN'), ('üzere', 'NNP'), ('iki', 'VBZ'), ('tip', 'JJ'), ('motor', 'NN'), ('kullanmaktadır', 'NN'), ('elektrikli', 'NN'), ('motoru', 'NN'), ('içten', 'JJ'), ('yanmalı', 'NN'), ('motora', 'NNS'), ('destek', 'VBP'), ('olacak', 'JJ'), ('şekilde', 'NNP'), ('geliştirilmiştir', 'NN'), ('arabanız', 'NN'), ('durma', 'NN'), ('halindeyken', 'VBN'), ('iki', 'JJ'), ('motorda', 'NN'), ('çalışmaz', 'NNP'), ('araç', 'NN'), ('kalkış', 'NN'), ('yaptığında', 'NN'), ('elektrik', 'NN'), ('motoru', 'NN'), ('devreye', 'NN'), ('girer', 'NN'), ('hızlanma', 'NN'), ('esnasında', 'NN'), ('yokuşlarda', 'NN'), ('iki', 'NN'), ('motor', 'NN'), ('devreye', 'NN'), ('girer', 'NN'), ('otomobilde', 'IN'), ('elektrikli', 'JJ'), ('motoru', 'NN'), ('şarj', 'NNP'), ('eden', 'VBZ'), ('bir', 'NN'), ('mekanizma', 'NN'), ('bulunmaz', 'NN'), ('elektrik', 'NN'), ('motoru', 'NN'), ('içten', 'JJ'), ('yanmalı', 'NNP'), ('motor', 'NN'), ('tarafından', 'NN'), ('şarj', 'NNP'), ('edilmektedir', 'VBZ'), ('düşük', 'JJ'), ('hızlarda', 'NN'), ('elektrikli', 'NN'), ('motor', 'NN'), ('aracın', 'NN'), ('çekişin', 'NNP'), ('sağlar', 'JJ'), ('yüksek', 'NN'), ('hızlarda', 'NN'), ('içten', 'JJ'), ('yanmalı', 'NNP'), ('motor', 'NN'), ('devreye', 'NN'), ('girmektedir', 'NN'), ('emisyon', 'NN'), ('hacimleri', 'NN'), ('düşüktür', 'NN'), ('elektrikli', 'NN'), ('kullanım', 'NN'), ('sırasında', 'NN'), ('sessiz', 'NN'), ('çalışırlar', 'JJ'), ('şarj', 'NNP'), ('edilebilir', 'NN'), ('hibrit', 'NN'), ('otomobiller', 'NN'), ('tak', 'NN'), ('çalıştır', 'NNP'), ('hibrit', 'NN'), ('teknolojiyle', 'NN'), ('aynı', 'JJ'), ('sisteme', 'NN'), ('olan', 'NN'), ('otomobillerin', 'VBP'), ('dışardan', 'NN'), ('şarj', 'NNP'), ('edilebilmelerini', 'VBZ'), ('sağlayan', 'JJ'), ('fiş', 'NN'), ('tertibatları', 'NN'), ('vardır', 'NN'), ('pilleri', 'NN'), ('büyüktür', 'NN'), ('şarj', 'NNP'), ('soketlerine', 'NN'), ('takılarak', 'NN'), ('şarj', 'NNP'), ('edilebilirler', 'NN'), ('elektrikli', 'NN'), ('otomobil', 'NN'), ('kullanımının', 'NN'), ('artmasının', 'NN'), ('önündeki', 'NNP'), ('engellerin', 'VBZ'), ('başında', 'NN'), ('şarj', 'NNP'), ('istasyonlarının', 'NN'), ('yaygın', 'NN'), ('olmaması', 'NN'), ('maliyetlerin', 'NN'), ('alternatif', 'NN'), ('araç', 'JJ'), ('seçeneklerine', 'NN'), ('göre', 'NN'), ('biraz', 'NN'), ('yüksek', 'NN'), ('olması', 'VBP'), ('yer', 'NN'), ('almaktadır', 'NN'), ('türkiyede', 'NN'), ('elektrikli', 'NN'), ('hibrit', 'NN'), ('araçlar', 'JJ'), ('ülkemizde', 'NNP'), ('elektrikli', 'NN'), ('otomobil', 'NN'), ('sahipliği', 'NN'), ('geçen', 'NN'), ('yıl', 'NN'), ('artıyor', 'NN'), ('talebi', 'NN'), ('karşılamak', 'NN'), ('şarj', 'NNP'), ('istasyonları', 'NN'), ('yatırımı', 'NN'), ('artışa', 'NN'), ('paralel', 'NN'), ('olarak', 'NN'), ('artmaktadır', 'NN'), ('türkiyede', 'NN'), ('yer', 'NN'), ('alan', 'NN'), ('elektrikli', 'VBP'), ('otomobil', 'JJ'), ('sayısı', 'NN'), ('toplam', 'NN'), ('1126', 'CD'), ('adet', 'NN'), ('şarj', 'NNP'), ('soketi', 'NN'), ('sayısı', 'VBD'), ('582', 'CD'), ('ulaşmış', 'JJ'), ('bulunuyor', 'NN'), ('türkiyede', 'VBD'), ('11', 'CD'), ('firmanın', 'NN'), ('fiilen', 'VBN'), ('şarj', 'NNP'), ('istasyonu', 'JJ'), ('yatırımı', 'NN'), ('bulunmakta', 'NN'), ('toplam', 'VBD'), ('18', 'CD'), ('firma', 'JJ'), ('satış', 'NN'), ('pazarlama', 'NN'), ('faaliyetlerini', 'NN'), ('sürdürmektedir', 'NN'), ('türkiyede', 'NN'), ('satılan', 'NN'), ('elektrikli', 'VBP'), ('otomobiller', 'NN'), ('arasında', 'NN'), ('mercedes', 'NNS'), ('bmw', 'VBP'), ('tesla', 'JJ'), ('toyota', 'NN'), ('kia', 'NN'), ('honda', 'NN'), ('hyundai', 'NN'), ('renault', 'NN'), ('birçok', 'NN'), ('marka', 'NN'), ('bulunmaktadır', 'NN'), ('elektrikli', 'NN'), ('araçların', 'NN'), ('pil', 'NN'), ('maliyetlerinin', 'NN'), ('önümüzdeki', 'NNP'), ('beş', 'NN'), ('sene', 'NN'), ('içerisinde', 'NN'), ('düşeceği', 'NN'), ('tahmin', 'NN'), ('edilmektedir', 'NN'), ('2015', 'CD'), ('yılında', 'NN'), ('elektrikli', 'CC'), ('araçlarda', 'JJ'), ('yer', 'NN'), ('alan', 'NN'), ('piller', 'NN'), ('aracın', 'NN'), ('toplam', 'NN'), ('maliyetinin', 'NN'), ('57sini', 'CD'), ('oluştururken', 'JJ'), ('2019da', 'CD'), ('oran', 'JJ'), ('33e', 'CD'), ('düşmüş', 'NN'), ('bulunmaktadır', 'NN'), ('2025te', 'CD'), ('oranın', 'NN'), ('20ye', 'CD'), ('kadar', 'NN'), ('düşmesi', 'NN'), ('beklenmektedir', 'NN'), ('ülkemizde', 'NNP'), ('önceleri', 'NNP'), ('mtvden', 'NNP'), ('motorlu', 'NN'), ('taşıtlar', 'NN'), ('vergisi', 'NN'), ('muaf', 'NN'), ('olan', 'NN'), ('elektrikli', 'VBP'), ('araçlar', 'JJ'), ('halen', 'NN'), ('mtv', 'NN'), ('vergisi', 'NN'), ('uygulanmaktadır', 'JJ'), ('türkiye', 'NN'), ('elektrikli', 'NN'), ('hibrit', 'NN'), ('araçlar', 'JJ'), ('derneği', 'NN'), ('tehad', 'VBD'), ('tarafından', 'JJ'), ('başlatılan', 'NN'), ('girişimle', 'NN'), ('2021', 'CD'), ('nisan', 'JJ'), ('tarihleri', 'NN'), ('elektrikli', 'NN'), ('hibrit', 'NN'), ('sürüş', 'NN'), ('haftası', 'NN'), ('olarak', 'NN'), ('ilan', 'NN'), ('edilmiş', 'VBZ'), ('bulunmaktadır', 'JJ'), ('2019', 'CD'), ('yılında', 'NN'), ('elektrikli', 'CC'), ('hibrit', 'NN'), ('sürüş', 'NN'), ('haftasının', 'NN'), ('ilki', 'NN'), ('gerçekleştirilmiştir', 'NN'), ('avrupada', 'NN'), ('2018', 'CD'), ('yılında', 'NN'), ('195000', 'CD'), ('elektrikli', 'NN'), ('araba', 'NN'), ('satıldı', 'NN'), ('avrupada', 'NN'), ('fazla', 'NN'), ('şarj', 'NNP'), ('istasyonu', 'VBZ'), ('80', 'CD'), ('binin', 'NN'), ('üzerinde', 'NNP'), ('hollandada', 'NN'), ('bulunuyor', 'NN'), ('almanyada', 'VBD'), ('37', 'CD'), ('bin', 'NN'), ('fransada', 'VBD'), ('34', 'CD'), ('bin', 'NN'), ('adet', 'NN'), ('şarj', 'NNP'), ('istasyonu', 'NN'), ('yer', 'NN'), ('alıyor', 'NN'), ('avrupa', 'NN'), ('kıyaslandığında', 'NN'), ('ülkemizde', 'NNP'), ('elektrikli', 'VBZ'), ('araç', 'JJ'), ('pazarının', 'NN'), ('henüz', 'NN'), ('küçük', 'NN'), ('olduğunu', 'NN'), ('söyleyebiliriz', 'NN'), ('türkiyede', 'NN'), ('yeni', 'NN'), ('elektrikli', 'NN'), ('araba', 'NN'), ('ikinci', 'NN'), ('el', 'NN'), ('elektrikli', 'NN'), ('otomobil', 'NN'), ('sayısının', 'NN'), ('artması', 'NN'), ('maliyetlerin', 'NN'), ('düşmesi', 'NN'), ('şarj', 'NNP'), ('istasyonlarının', 'NN'), ('artması', 'NN'), ('mümkün', 'NN'), ('olacaktır', 'NN')]\n"
     ]
    }
   ],
   "source": [
    "from nltk import pos_tag\n",
    "pos = pos_tag(filtered_words)\n",
    "print(pos)"
   ]
  },
  {
   "cell_type": "code",
   "execution_count": 58,
   "id": "d414b18f",
   "metadata": {},
   "outputs": [],
   "source": [
    "f = open('elektrik.txt', 'r', encoding='utf8')\n",
    "text = f.read()\n",
    "t_list = text.split('\\n')\n",
    "\n",
    "corpus = []\n",
    "\n",
    "for cumle in t_list:\n",
    "    corpus.append(cumle.split())"
   ]
  },
  {
   "cell_type": "code",
   "execution_count": 59,
   "id": "b635f4e1",
   "metadata": {},
   "outputs": [
    {
     "name": "stdout",
     "output_type": "stream",
     "text": [
      "[['elektrikli', 'otomobiller', 'hakkında', 'merak', 'edilenler'], [], ['elektrik', 'enerjisi', 'ile', 'çalışan', 'otomobillere', 'elektrikli', 'otomobil', 'adı', 'verilmektedir', 'elektrikli', 'otomobillerin', 'yakıt', 'tasarrufu', 'sağlamasının', 'yanı', 'sıra', 'karbon', 'emisyonunu', 'azaltması', 'sebebiyle', 'çevreye', 'verilen', 'zararın', 'aza', 'indirilmesi', 'bakımından', 'da', 'olumlu', 'etkileri', 'bulunmaktadır', 'elektrikli', 'arabaların', 'en', 'önemli', 'avantajlarından', 'biri', 'de', 'sessiz', 'çalışıyor', 'olmalarıdır'], [], ['elektrikli', 'otomobiller', 'içten', 'yanmalı', 'motorlara', 'sahip', 'otomobillerden', 'farklı', 'olarak', 'gücünü', 'elektrik', 'motorundan', 'almakta', 'yakıt', 'olarak', 'elektrik', 'enerjisini', 'kullanmaktadır'], [], ['elektrikli', 'otomobil', 'teknolojisindeki', 'gelişmelerin', 'elektrikli', 'araçlara', 'olan', 'ilgiyi', 've', 'talebi', 'her', 'geçen', 'gün', 'artırmasıyla', 'birçok', 'otomobil', 'üreticisi', 'modelleri', 'arasına', 'seri', 'üretim', 'elektrikli', 'otomobilleri', 'eklemiştir'], [], ['elektrikli', 'otomobiller', 'arasında', 'en', 'fazla', 'rağbet', 'görenler', 'hibrit', 'diye', 'adlandırılan', 'elektrik', 've', 'yakıt', 'teknolojisinin', 'birlikte', 'yer', 'aldığı', 'otomobillerdir', 'bu', 'otomobiller', 'aracın', 'kullanım', 'sırasında', 'hem', 'elektrik', 'hem', 'de', 'yakıt', 'enerjisinden', 'faydalanmaktadır'], []]\n"
     ]
    }
   ],
   "source": [
    "print(corpus[:10])"
   ]
  },
  {
   "cell_type": "code",
   "execution_count": 115,
   "id": "9f3749b5",
   "metadata": {},
   "outputs": [],
   "source": [
    "from gensim.test.utils import common_texts\n",
    "from gensim.models import Word2Vec\n"
   ]
  },
  {
   "cell_type": "code",
   "execution_count": 119,
   "id": "e903bcc6",
   "metadata": {},
   "outputs": [],
   "source": [
    "import gensim\n",
    "%matplotlib notebook\n",
    "import numpy as np\n",
    "import matplotlib.pyplot as plt\n",
    "from sklearn.manifold import TSNE"
   ]
  },
  {
   "cell_type": "code",
   "execution_count": 61,
   "id": "83ba83ec",
   "metadata": {},
   "outputs": [],
   "source": [
    "model = Word2Vec(corpus, vector_size=100, window=5, min_count=5, sg=1)"
   ]
  },
  {
   "cell_type": "code",
   "execution_count": 92,
   "id": "7278ed93",
   "metadata": {},
   "outputs": [
    {
     "data": {
      "text/plain": [
       "array([-5.7417707e-04,  2.5798241e-04,  5.0945333e-03,  9.0012895e-03,\n",
       "       -9.2900572e-03, -7.1174535e-03,  6.4512258e-03,  8.9922408e-03,\n",
       "       -5.0387839e-03, -3.7700618e-03,  7.3653399e-03, -1.5464306e-03,\n",
       "       -4.5542903e-03,  6.5432028e-03, -4.8431847e-03, -1.8159274e-03,\n",
       "        2.8857416e-03,  1.0047521e-03, -8.2988953e-03, -9.4835656e-03,\n",
       "        7.3114005e-03,  5.0714863e-03,  6.7950301e-03,  7.7509339e-04,\n",
       "        6.3574235e-03, -3.3862665e-03, -9.5136906e-04,  5.7667834e-03,\n",
       "       -7.5361594e-03, -3.9174017e-03, -7.4805059e-03, -9.4739452e-04,\n",
       "        9.5429346e-03, -7.3403218e-03, -2.3285705e-03, -1.9307644e-03,\n",
       "        8.0784531e-03, -5.9124995e-03,  3.9848052e-05, -4.7580078e-03,\n",
       "       -9.5984386e-03,  4.9943370e-03, -8.7789614e-03, -4.3661222e-03,\n",
       "       -2.5173980e-05, -3.0889627e-04, -7.6617468e-03,  9.6086301e-03,\n",
       "        4.9879909e-03,  9.2273960e-03, -8.1475331e-03,  4.4790334e-03,\n",
       "       -4.1429363e-03,  8.1573817e-04,  8.4778415e-03, -4.4693747e-03,\n",
       "        4.5189490e-03, -6.8040262e-03, -3.5526524e-03,  9.3968650e-03,\n",
       "       -1.5681144e-03,  3.2196651e-04, -4.0973322e-03, -7.6729516e-03,\n",
       "       -1.5150296e-03,  2.4837661e-03, -8.6569309e-04,  5.5677979e-03,\n",
       "       -2.7587630e-03,  2.2671027e-03,  5.4597971e-03,  8.3670393e-03,\n",
       "       -1.4475620e-03, -9.1867568e-03,  4.3764929e-03,  5.9131690e-04,\n",
       "        7.4441358e-03, -8.0588134e-04, -2.6344138e-03, -8.7706447e-03,\n",
       "       -8.6833606e-04,  2.7986802e-03,  5.4092407e-03,  7.0557673e-03,\n",
       "       -5.7120533e-03,  1.8420994e-03,  6.0985815e-03, -4.8000747e-03,\n",
       "       -3.1075699e-03,  6.7845620e-03,  1.6455962e-03,  2.1345131e-04,\n",
       "        3.4951798e-03,  2.0539554e-04,  9.6424073e-03,  5.0669080e-03,\n",
       "       -8.8904621e-03, -7.0453044e-03,  9.0741762e-04,  6.3979151e-03],\n",
       "      dtype=float32)"
      ]
     },
     "execution_count": 92,
     "metadata": {},
     "output_type": "execute_result"
    }
   ],
   "source": [
    "model.wv['elektrikli']"
   ]
  },
  {
   "cell_type": "code",
   "execution_count": 111,
   "id": "d703fcf1",
   "metadata": {},
   "outputs": [
    {
     "data": {
      "text/plain": [
       "[('olarak', 0.17846305668354034),\n",
       " ('elektrik', 0.1349458545446396),\n",
       " ('yakıt', 0.07790904492139816),\n",
       " ('ve', 0.07137960195541382),\n",
       " ('otomobiller', 0.042389530688524246),\n",
       " ('bu', 0.04188207536935806),\n",
       " ('türkiyede', 0.014800296165049076),\n",
       " ('için', 0.01246592402458191),\n",
       " ('motor', -0.007207660470157862),\n",
       " ('şarj', -0.0073315454646945)]"
      ]
     },
     "execution_count": 111,
     "metadata": {},
     "output_type": "execute_result"
    }
   ],
   "source": [
    "model.wv.most_similar('hibrit')"
   ]
  },
  {
   "cell_type": "code",
   "execution_count": 107,
   "id": "db2b1764",
   "metadata": {},
   "outputs": [
    {
     "data": {
      "text/plain": [
       "[('daha', 0.1572359949350357),\n",
       " ('türkiyede', 0.129993736743927),\n",
       " ('elektrikli', 0.09425864368677139),\n",
       " ('olarak', 0.09305019676685333),\n",
       " ('şarj', 0.05282929539680481),\n",
       " ('otomobiller', 0.002488295314833522),\n",
       " ('ve', 0.0017806817777454853),\n",
       " ('yanmalı', -0.0031341181602329016),\n",
       " ('hibrit', -0.0072076586075127125),\n",
       " ('bu', -0.028317224234342575)]"
      ]
     },
     "execution_count": 107,
     "metadata": {},
     "output_type": "execute_result"
    }
   ],
   "source": [
    "model.wv.most_similar('motor')"
   ]
  },
  {
   "cell_type": "code",
   "execution_count": 81,
   "id": "abfe2345",
   "metadata": {},
   "outputs": [
    {
     "data": {
      "text/plain": [
       "[('elektrikli', 0.21637940406799316),\n",
       " ('yakıt', 0.04503863677382469),\n",
       " ('türkiyede', 0.013932817615568638),\n",
       " ('yanmalı', 0.009819025173783302),\n",
       " ('bulunmaktadır', 0.006726938299834728),\n",
       " ('otomobiller', 0.0025989559944719076),\n",
       " ('şarj', -0.03223783150315285),\n",
       " ('olarak', -0.04643632471561432),\n",
       " ('motor', -0.04711882025003433),\n",
       " ('bu', -0.07472722977399826)]"
      ]
     },
     "execution_count": 81,
     "metadata": {},
     "output_type": "execute_result"
    }
   ],
   "source": [
    "model.wv.most_similar('otomobil')"
   ]
  },
  {
   "cell_type": "code",
   "execution_count": 72,
   "id": "af02b876",
   "metadata": {},
   "outputs": [],
   "source": [
    "model.save('word2vec.model')"
   ]
  },
  {
   "cell_type": "code",
   "execution_count": 73,
   "id": "95cbbc31",
   "metadata": {},
   "outputs": [],
   "source": [
    "model = Word2Vec.load('word2vec.model')"
   ]
  },
  {
   "cell_type": "code",
   "execution_count": 66,
   "id": "6f9ffa80",
   "metadata": {},
   "outputs": [],
   "source": [
    "def closestwords_tsneplot(model, word):\n",
    "    word_vectors = np.empty((0,100))\n",
    "    word_labels = [word]\n",
    "    \n",
    "    close_words = model.wv.most_similar(word)\n",
    "    \n",
    "    word_vectors = np.append(word_vectors, np.array([model.wv[word]]), axis=0)\n",
    "    \n",
    "    for w, _ in close_words:\n",
    "        word_labels.append(w)\n",
    "        word_vectors = np.append(word_vectors, np.array([model.wv[w]]), axis=0)\n",
    "        \n",
    "    tsne = TSNE(random_state=0)\n",
    "    Y = tsne.fit_transform(word_vectors)\n",
    "    \n",
    "    x_coords = Y[:, 0]\n",
    "    y_coords = Y[:, 1]\n",
    "    \n",
    "    plt.scatter(x_coords, y_coords)\n",
    "    \n",
    "    for label, x, y in zip(word_labels, x_coords, y_coords):\n",
    "        plt.annotate(label, xy=(x, y), xytext=(5, -2), textcoords='offset points')\n",
    "        \n",
    "    plt.show()"
   ]
  },
  {
   "cell_type": "code",
   "execution_count": 101,
   "id": "8c28fc63",
   "metadata": {},
   "outputs": [],
   "source": [
    "import numpy as np\n"
   ]
  },
  {
   "cell_type": "code",
   "execution_count": 102,
   "id": "6b6c172e",
   "metadata": {},
   "outputs": [
    {
     "data": {
      "image/png": "[encoded data removed]",
      "text/plain": [
       "<Figure size 432x288 with 1 Axes>"
      ]
     },
     "metadata": {
      "needs_background": "light"
     },
     "output_type": "display_data"
    }
   ],
   "source": [
    "closestwords_tsneplot(model, 'otomobiller')"
   ]
  },
  {
   "cell_type": "code",
   "execution_count": 99,
   "id": "cdf48e6d",
   "metadata": {},
   "outputs": [
    {
     "data": {
      "image/png": "[encoded data removed]",
      "text/plain": [
       "<Figure size 432x288 with 1 Axes>"
      ]
     },
     "metadata": {
      "needs_background": "light"
     },
     "output_type": "display_data"
    }
   ],
   "source": [
    "closestwords_tsneplot(model, '')"
   ]
  },
  {
   "cell_type": "code",
   "execution_count": null,
   "id": "148d8ad7",
   "metadata": {},
   "outputs": [],
   "source": []
  }
 ],
 "metadata": {
  "kernelspec": {
   "display_name": "Python 3 (ipykernel)",
   "language": "python",
   "name": "python3"
  },
  "language_info": {
   "codemirror_mode": {
    "name": "ipython",
    "version": 3
   },
   "file_extension": ".py",
   "mimetype": "text/x-python",
   "name": "python",
   "nbconvert_exporter": "python",
   "pygments_lexer": "ipython3",
   "version": "3.9.7"
  }
 },
 "nbformat": 4,
 "nbformat_minor": 5
}
